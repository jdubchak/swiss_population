{
 "cells": [
  {
   "cell_type": "code",
   "execution_count": 1,
   "metadata": {
    "collapsed": true
   },
   "outputs": [],
   "source": [
    "import pandas as pd"
   ]
  },
  {
   "cell_type": "code",
   "execution_count": 3,
   "metadata": {},
   "outputs": [],
   "source": [
    "cnrsac = pd.read_csv(\"../data/2016_canton_nonperm_resperm_sex_age_canada.csv\", encoding=\"latin-1\", sep=\" \", low_memory=False, skiprows=1)"
   ]
  },
  {
   "cell_type": "markdown",
   "metadata": {},
   "source": [
    "find and replace all accent characters "
   ]
  },
  {
   "cell_type": "code",
   "execution_count": 7,
   "metadata": {},
   "outputs": [
    {
     "data": {
      "text/plain": [
       "array(['Switzerland', 'Zürich', 'Bern / Berne', 'Luzern', 'Uri', 'Schwyz',\n",
       "       'Obwalden', 'Nidwalden', 'Glarus', 'Zug', 'Fribourg / Freiburg',\n",
       "       'Solothurn', 'Basel-Stadt', 'Basel-Landschaft', 'Schaffhausen',\n",
       "       'Appenzell Ausserrhoden', 'Appenzell Innerrhoden', 'St. Gallen',\n",
       "       'Graubünden / Grigioni / Grischun', 'Aargau', 'Thurgau', 'Ticino',\n",
       "       'Vaud', 'Valais / Wallis', 'Neuchâtel', 'Genève', 'Jura'], dtype=object)"
      ]
     },
     "execution_count": 7,
     "metadata": {},
     "output_type": "execute_result"
    }
   ],
   "source": [
    "cnrsac[\"Canton\"].unique()"
   ]
  },
  {
   "cell_type": "code",
   "execution_count": 95,
   "metadata": {
    "collapsed": true
   },
   "outputs": [],
   "source": [
    "cnrsac.Canton = cnrsac.Canton.replace({\"Zürich\": 'Zurich', \"Graubünden / Grigioni / Grischun\": \"Graubunden / Grigioni / Grischun\", \n",
    "                                           \"Neuchâtel\":\"Neuchatel\",\"Genève\":\"Geneve\"})"
   ]
  },
  {
   "cell_type": "code",
   "execution_count": 96,
   "metadata": {},
   "outputs": [
    {
     "data": {
      "text/plain": [
       "array(['Switzerland', 'Zurich', 'Bern / Berne', 'Luzern', 'Uri', 'Schwyz',\n",
       "       'Obwalden', 'Nidwalden', 'Glarus', 'Zug', 'Fribourg / Freiburg',\n",
       "       'Solothurn', 'Basel-Stadt', 'Basel-Landschaft', 'Schaffhausen',\n",
       "       'Appenzell Ausserrhoden', 'Appenzell Innerrhoden', 'St. Gallen',\n",
       "       'Graubunden / Grigioni / Grischun', 'Aargau', 'Thurgau', 'Ticino',\n",
       "       'Vaud', 'Valais / Wallis', 'Neuchatel', 'Geneve', 'Jura'], dtype=object)"
      ]
     },
     "execution_count": 96,
     "metadata": {},
     "output_type": "execute_result"
    }
   ],
   "source": [
    "cnrsac[\"Canton\"].unique()"
   ]
  },
  {
   "cell_type": "code",
   "execution_count": null,
   "metadata": {
    "collapsed": true
   },
   "outputs": [],
   "source": []
  },
  {
   "cell_type": "code",
   "execution_count": null,
   "metadata": {
    "collapsed": true
   },
   "outputs": [],
   "source": []
  },
  {
   "cell_type": "code",
   "execution_count": null,
   "metadata": {
    "collapsed": true
   },
   "outputs": [],
   "source": []
  },
  {
   "cell_type": "code",
   "execution_count": null,
   "metadata": {
    "collapsed": true
   },
   "outputs": [],
   "source": []
  },
  {
   "cell_type": "code",
   "execution_count": null,
   "metadata": {
    "collapsed": true
   },
   "outputs": [],
   "source": []
  },
  {
   "cell_type": "code",
   "execution_count": null,
   "metadata": {
    "collapsed": true
   },
   "outputs": [],
   "source": []
  }
 ],
 "metadata": {
  "kernelspec": {
   "display_name": "Python 3",
   "language": "python",
   "name": "python3"
  },
  "language_info": {
   "codemirror_mode": {
    "name": "ipython",
    "version": 3
   },
   "file_extension": ".py",
   "mimetype": "text/x-python",
   "name": "python",
   "nbconvert_exporter": "python",
   "pygments_lexer": "ipython3",
   "version": "3.6.1"
  }
 },
 "nbformat": 4,
 "nbformat_minor": 2
}
