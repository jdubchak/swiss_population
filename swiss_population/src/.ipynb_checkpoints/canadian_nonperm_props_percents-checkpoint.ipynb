{
 "cells": [
  {
   "cell_type": "code",
   "execution_count": 1,
   "metadata": {
    "collapsed": true
   },
   "outputs": [],
   "source": [
    "import pandas as pd\n",
    "import numpy as np"
   ]
  },
  {
   "cell_type": "code",
   "execution_count": 2,
   "metadata": {
    "collapsed": true
   },
   "outputs": [],
   "source": [
    "canton_nonperm_birthpl_cit = pd.read_csv(\"../data/clean_data/2016_canton_nonperm_birthpl_cit_cleaned.csv\", index_col=0)"
   ]
  },
  {
   "cell_type": "code",
   "execution_count": 3,
   "metadata": {
    "collapsed": true
   },
   "outputs": [],
   "source": [
    "canton_nonperm_birthpl_cit_Canada = canton_nonperm_birthpl_cit[[\"Year\", \"Commune\", \"District\", \"Canton\", \"Population type\", \"Place of birth\",\n",
    "                        \"Citizenship - Total\", \"Canada\", \"Switzerland\"]]"
   ]
  },
  {
   "cell_type": "code",
   "execution_count": 6,
   "metadata": {},
   "outputs": [],
   "source": [
    "canton_nonperm_Canadians_bornabroad = canton_nonperm_birthpl_cit_Canada.loc[(canton_nonperm_birthpl_cit_Canada[\"Place of birth\"] == \"Abroad\") & \n",
    "                                     (canton_nonperm_birthpl_cit_Canada.District.isnull())][[\"Year\", \"Canton\", \n",
    "                                                                                             \"Population type\", \"Place of birth\", \n",
    "                                                                                             \"Citizenship - Total\", \"Canada\"]]"
   ]
  },
  {
   "cell_type": "code",
   "execution_count": 7,
   "metadata": {
    "collapsed": true
   },
   "outputs": [],
   "source": [
    "all_canadians_count = canton_nonperm_Canadians_bornabroad.iloc[0][\"Canada\"]"
   ]
  },
  {
   "cell_type": "code",
   "execution_count": 11,
   "metadata": {},
   "outputs": [],
   "source": [
    "canadian_props = []\n",
    "canadian_percent = []\n",
    "\n",
    "for ind, row in canton_nonperm_Canadians_bornabroad.iterrows():\n",
    "    canadian_props.append(row[\"Canada\"]/all_canadians_count)\n",
    "    canadian_percent.append((row[\"Canada\"]/all_canadians_count)*100)"
   ]
  },
  {
   "cell_type": "code",
   "execution_count": 18,
   "metadata": {},
   "outputs": [],
   "source": [
    "canton_nonperm_Canadians_bornabroad[\"Proportion of Nonperm Residents who are Canadian in Canton\"] = canadian_props\n",
    "canton_nonperm_Canadians_bornabroad[\"Percentage of Nonperm Residents who are Canadian in Canton\"] = canadian_percent"
   ]
  },
  {
   "cell_type": "code",
   "execution_count": 14,
   "metadata": {
    "collapsed": true
   },
   "outputs": [],
   "source": [
    "reduced_g1k15 = pd.read_csv(\"../data/clean_data/reduced_g1k15_withcities.csv\", index_col=0)"
   ]
  },
  {
   "cell_type": "code",
   "execution_count": 15,
   "metadata": {
    "collapsed": true
   },
   "outputs": [],
   "source": [
    "reduced_g1k15 = reduced_g1k15.drop('Unnamed: 0.1', axis=1)"
   ]
  },
  {
   "cell_type": "code",
   "execution_count": 19,
   "metadata": {},
   "outputs": [],
   "source": [
    "reduced_canton_percent = []\n",
    "reduced_canton_prop = []\n",
    "\n",
    "for ind1, row1 in reduced_g1k15.iterrows():\n",
    "    for ind2, row2 in canton_nonperm_Canadians_bornabroad.iterrows():\n",
    "        if row1[\"cantons\"] == row2[\"Canton\"]:\n",
    "            reduced_canton_percent.append(row2[\"Percentage of Nonperm Residents who are Canadian in Canton\"])\n",
    "            reduced_canton_prop.append(row2[\"Proportion of Nonperm Residents who are Canadian in Canton\"])"
   ]
  },
  {
   "cell_type": "code",
   "execution_count": 20,
   "metadata": {
    "collapsed": true
   },
   "outputs": [],
   "source": [
    "reduced_g1k15[\"Percentage of Nonperm Residents who are Canadian in Canton\"] = reduced_canton_percent\n",
    "reduced_g1k15[\"Proportion of Nonperm Residents who are Canadian in Canton\"] = reduced_canton_prop"
   ]
  },
  {
   "cell_type": "code",
   "execution_count": 21,
   "metadata": {
    "collapsed": true
   },
   "outputs": [],
   "source": [
    "reduced_g1k15.to_csv(\"../data/clean_data/reduced_g1k15_canton_nonperm_canadians_total.csv\")"
   ]
  }
 ],
 "metadata": {
  "kernelspec": {
   "display_name": "Python 3",
   "language": "python",
   "name": "python3"
  },
  "language_info": {
   "codemirror_mode": {
    "name": "ipython",
    "version": 3
   },
   "file_extension": ".py",
   "mimetype": "text/x-python",
   "name": "python",
   "nbconvert_exporter": "python",
   "pygments_lexer": "ipython3",
   "version": "3.6.1"
  }
 },
 "nbformat": 4,
 "nbformat_minor": 2
}
