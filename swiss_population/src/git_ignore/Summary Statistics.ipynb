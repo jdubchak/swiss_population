{
 "cells": [
  {
   "cell_type": "markdown",
   "metadata": {},
   "source": [
    "### This script will extract proportions of Canadian non permanent residents living in Switzerland, and their locations.\n",
    "\n",
    "#### This script uses cleaned data files "
   ]
  },
  {
   "cell_type": "code",
   "execution_count": 2,
   "metadata": {
    "collapsed": true
   },
   "outputs": [],
   "source": [
    "import pandas as pd\n",
    "import numpy as np"
   ]
  },
  {
   "cell_type": "code",
   "execution_count": 7,
   "metadata": {},
   "outputs": [],
   "source": [
    "canton_nonperm_birthpl_cit = pd.read_csv(\"../data/clean_data/2016_canton_nonperm_birthpl_cit_cleaned.csv\", index_col=0)"
   ]
  },
  {
   "cell_type": "code",
   "execution_count": 8,
   "metadata": {},
   "outputs": [
    {
     "data": {
      "text/html": [
       "<div>\n",
       "<style>\n",
       "    .dataframe thead tr:only-child th {\n",
       "        text-align: right;\n",
       "    }\n",
       "\n",
       "    .dataframe thead th {\n",
       "        text-align: left;\n",
       "    }\n",
       "\n",
       "    .dataframe tbody tr th {\n",
       "        vertical-align: top;\n",
       "    }\n",
       "</style>\n",
       "<table border=\"1\" class=\"dataframe\">\n",
       "  <thead>\n",
       "    <tr style=\"text-align: right;\">\n",
       "      <th></th>\n",
       "      <th>Year</th>\n",
       "      <th>Commune</th>\n",
       "      <th>District</th>\n",
       "      <th>Canton</th>\n",
       "      <th>Canton (-) / District (&gt;&gt;) / Commune (......)</th>\n",
       "      <th>Population type</th>\n",
       "      <th>Place of birth</th>\n",
       "      <th>Citizenship - Total</th>\n",
       "      <th>Switzerland</th>\n",
       "      <th>Albania</th>\n",
       "      <th>...</th>\n",
       "      <th>Samoa</th>\n",
       "      <th>Solomon Islands</th>\n",
       "      <th>Tuvalu</th>\n",
       "      <th>Kiribati</th>\n",
       "      <th>Marshall Islands</th>\n",
       "      <th>Micronesia</th>\n",
       "      <th>Palau</th>\n",
       "      <th>Stateless</th>\n",
       "      <th>Not attributable according to current borders</th>\n",
       "      <th>No indication</th>\n",
       "    </tr>\n",
       "  </thead>\n",
       "  <tbody>\n",
       "    <tr>\n",
       "      <th>0</th>\n",
       "      <td>2016</td>\n",
       "      <td>NaN</td>\n",
       "      <td>NaN</td>\n",
       "      <td>NaN</td>\n",
       "      <td>Switzerland</td>\n",
       "      <td>Non permanent resident population</td>\n",
       "      <td>Place of birth - Total</td>\n",
       "      <td>77763</td>\n",
       "      <td>0</td>\n",
       "      <td>217</td>\n",
       "      <td>...</td>\n",
       "      <td>0</td>\n",
       "      <td>0</td>\n",
       "      <td>0</td>\n",
       "      <td>0</td>\n",
       "      <td>0</td>\n",
       "      <td>0</td>\n",
       "      <td>0</td>\n",
       "      <td>5</td>\n",
       "      <td>0</td>\n",
       "      <td>168</td>\n",
       "    </tr>\n",
       "    <tr>\n",
       "      <th>1</th>\n",
       "      <td>2016</td>\n",
       "      <td>NaN</td>\n",
       "      <td>NaN</td>\n",
       "      <td>NaN</td>\n",
       "      <td>Switzerland</td>\n",
       "      <td>Non permanent resident population</td>\n",
       "      <td>Switzerland</td>\n",
       "      <td>1880</td>\n",
       "      <td>0</td>\n",
       "      <td>9</td>\n",
       "      <td>...</td>\n",
       "      <td>0</td>\n",
       "      <td>0</td>\n",
       "      <td>0</td>\n",
       "      <td>0</td>\n",
       "      <td>0</td>\n",
       "      <td>0</td>\n",
       "      <td>0</td>\n",
       "      <td>0</td>\n",
       "      <td>0</td>\n",
       "      <td>32</td>\n",
       "    </tr>\n",
       "    <tr>\n",
       "      <th>2</th>\n",
       "      <td>2016</td>\n",
       "      <td>NaN</td>\n",
       "      <td>NaN</td>\n",
       "      <td>NaN</td>\n",
       "      <td>Switzerland</td>\n",
       "      <td>Non permanent resident population</td>\n",
       "      <td>Abroad</td>\n",
       "      <td>75883</td>\n",
       "      <td>0</td>\n",
       "      <td>208</td>\n",
       "      <td>...</td>\n",
       "      <td>0</td>\n",
       "      <td>0</td>\n",
       "      <td>0</td>\n",
       "      <td>0</td>\n",
       "      <td>0</td>\n",
       "      <td>0</td>\n",
       "      <td>0</td>\n",
       "      <td>5</td>\n",
       "      <td>0</td>\n",
       "      <td>136</td>\n",
       "    </tr>\n",
       "    <tr>\n",
       "      <th>3</th>\n",
       "      <td>2016</td>\n",
       "      <td>NaN</td>\n",
       "      <td>NaN</td>\n",
       "      <td>Zurich</td>\n",
       "      <td>- Zürich</td>\n",
       "      <td>Non permanent resident population</td>\n",
       "      <td>Place of birth - Total</td>\n",
       "      <td>12956</td>\n",
       "      <td>0</td>\n",
       "      <td>84</td>\n",
       "      <td>...</td>\n",
       "      <td>0</td>\n",
       "      <td>0</td>\n",
       "      <td>0</td>\n",
       "      <td>0</td>\n",
       "      <td>0</td>\n",
       "      <td>0</td>\n",
       "      <td>0</td>\n",
       "      <td>2</td>\n",
       "      <td>0</td>\n",
       "      <td>22</td>\n",
       "    </tr>\n",
       "    <tr>\n",
       "      <th>4</th>\n",
       "      <td>2016</td>\n",
       "      <td>NaN</td>\n",
       "      <td>NaN</td>\n",
       "      <td>Zurich</td>\n",
       "      <td>- Zürich</td>\n",
       "      <td>Non permanent resident population</td>\n",
       "      <td>Switzerland</td>\n",
       "      <td>269</td>\n",
       "      <td>0</td>\n",
       "      <td>1</td>\n",
       "      <td>...</td>\n",
       "      <td>0</td>\n",
       "      <td>0</td>\n",
       "      <td>0</td>\n",
       "      <td>0</td>\n",
       "      <td>0</td>\n",
       "      <td>0</td>\n",
       "      <td>0</td>\n",
       "      <td>0</td>\n",
       "      <td>0</td>\n",
       "      <td>7</td>\n",
       "    </tr>\n",
       "  </tbody>\n",
       "</table>\n",
       "<p>5 rows × 209 columns</p>\n",
       "</div>"
      ],
      "text/plain": [
       "   Year Commune District  Canton  \\\n",
       "0  2016     NaN      NaN     NaN   \n",
       "1  2016     NaN      NaN     NaN   \n",
       "2  2016     NaN      NaN     NaN   \n",
       "3  2016     NaN      NaN  Zurich   \n",
       "4  2016     NaN      NaN  Zurich   \n",
       "\n",
       "  Canton (-) / District (>>) / Commune (......)  \\\n",
       "0                                   Switzerland   \n",
       "1                                   Switzerland   \n",
       "2                                   Switzerland   \n",
       "3                                      - Zürich   \n",
       "4                                      - Zürich   \n",
       "\n",
       "                     Population type          Place of birth  \\\n",
       "0  Non permanent resident population  Place of birth - Total   \n",
       "1  Non permanent resident population             Switzerland   \n",
       "2  Non permanent resident population                  Abroad   \n",
       "3  Non permanent resident population  Place of birth - Total   \n",
       "4  Non permanent resident population             Switzerland   \n",
       "\n",
       "   Citizenship - Total  Switzerland  Albania      ...        Samoa  \\\n",
       "0                77763            0      217      ...            0   \n",
       "1                 1880            0        9      ...            0   \n",
       "2                75883            0      208      ...            0   \n",
       "3                12956            0       84      ...            0   \n",
       "4                  269            0        1      ...            0   \n",
       "\n",
       "   Solomon Islands  Tuvalu  Kiribati  Marshall Islands  Micronesia  Palau  \\\n",
       "0                0       0         0                 0           0      0   \n",
       "1                0       0         0                 0           0      0   \n",
       "2                0       0         0                 0           0      0   \n",
       "3                0       0         0                 0           0      0   \n",
       "4                0       0         0                 0           0      0   \n",
       "\n",
       "   Stateless  Not attributable according to current borders  No indication  \n",
       "0          5                                              0            168  \n",
       "1          0                                              0             32  \n",
       "2          5                                              0            136  \n",
       "3          2                                              0             22  \n",
       "4          0                                              0              7  \n",
       "\n",
       "[5 rows x 209 columns]"
      ]
     },
     "execution_count": 8,
     "metadata": {},
     "output_type": "execute_result"
    }
   ],
   "source": [
    "canton_nonperm_birthpl_cit.head()"
   ]
  },
  {
   "cell_type": "code",
   "execution_count": 10,
   "metadata": {},
   "outputs": [],
   "source": [
    "canton_nonperm_birthpl_cit_Canada = canton_nonperm_birthpl_cit[[\"Year\", \"Commune\", \"District\", \"Canton\", \"Population type\", \n",
    "                            \"Place of birth\", \"Citizenship - Total\", \"Canada\", \"Switzerland\"]]"
   ]
  },
  {
   "cell_type": "code",
   "execution_count": 11,
   "metadata": {},
   "outputs": [
    {
     "data": {
      "text/html": [
       "<div>\n",
       "<style>\n",
       "    .dataframe thead tr:only-child th {\n",
       "        text-align: right;\n",
       "    }\n",
       "\n",
       "    .dataframe thead th {\n",
       "        text-align: left;\n",
       "    }\n",
       "\n",
       "    .dataframe tbody tr th {\n",
       "        vertical-align: top;\n",
       "    }\n",
       "</style>\n",
       "<table border=\"1\" class=\"dataframe\">\n",
       "  <thead>\n",
       "    <tr style=\"text-align: right;\">\n",
       "      <th></th>\n",
       "      <th>Year</th>\n",
       "      <th>Citizenship - Total</th>\n",
       "      <th>Canada</th>\n",
       "      <th>Switzerland</th>\n",
       "    </tr>\n",
       "  </thead>\n",
       "  <tbody>\n",
       "    <tr>\n",
       "      <th>count</th>\n",
       "      <td>7386.0</td>\n",
       "      <td>7386.000000</td>\n",
       "      <td>7386.000000</td>\n",
       "      <td>7386.0</td>\n",
       "    </tr>\n",
       "    <tr>\n",
       "      <th>mean</th>\n",
       "      <td>2016.0</td>\n",
       "      <td>84.227457</td>\n",
       "      <td>0.538316</td>\n",
       "      <td>0.0</td>\n",
       "    </tr>\n",
       "    <tr>\n",
       "      <th>std</th>\n",
       "      <td>0.0</td>\n",
       "      <td>1336.386431</td>\n",
       "      <td>8.980198</td>\n",
       "      <td>0.0</td>\n",
       "    </tr>\n",
       "    <tr>\n",
       "      <th>min</th>\n",
       "      <td>2016.0</td>\n",
       "      <td>0.000000</td>\n",
       "      <td>0.000000</td>\n",
       "      <td>0.0</td>\n",
       "    </tr>\n",
       "    <tr>\n",
       "      <th>25%</th>\n",
       "      <td>2016.0</td>\n",
       "      <td>0.000000</td>\n",
       "      <td>0.000000</td>\n",
       "      <td>0.0</td>\n",
       "    </tr>\n",
       "    <tr>\n",
       "      <th>50%</th>\n",
       "      <td>2016.0</td>\n",
       "      <td>3.000000</td>\n",
       "      <td>0.000000</td>\n",
       "      <td>0.0</td>\n",
       "    </tr>\n",
       "    <tr>\n",
       "      <th>75%</th>\n",
       "      <td>2016.0</td>\n",
       "      <td>15.000000</td>\n",
       "      <td>0.000000</td>\n",
       "      <td>0.0</td>\n",
       "    </tr>\n",
       "    <tr>\n",
       "      <th>max</th>\n",
       "      <td>2016.0</td>\n",
       "      <td>77763.000000</td>\n",
       "      <td>497.000000</td>\n",
       "      <td>0.0</td>\n",
       "    </tr>\n",
       "  </tbody>\n",
       "</table>\n",
       "</div>"
      ],
      "text/plain": [
       "         Year  Citizenship - Total       Canada  Switzerland\n",
       "count  7386.0          7386.000000  7386.000000       7386.0\n",
       "mean   2016.0            84.227457     0.538316          0.0\n",
       "std       0.0          1336.386431     8.980198          0.0\n",
       "min    2016.0             0.000000     0.000000          0.0\n",
       "25%    2016.0             0.000000     0.000000          0.0\n",
       "50%    2016.0             3.000000     0.000000          0.0\n",
       "75%    2016.0            15.000000     0.000000          0.0\n",
       "max    2016.0         77763.000000   497.000000          0.0"
      ]
     },
     "execution_count": 11,
     "metadata": {},
     "output_type": "execute_result"
    }
   ],
   "source": [
    "canton_nonperm_birthpl_cit_Canada.describe()"
   ]
  },
  {
   "cell_type": "code",
   "execution_count": null,
   "metadata": {
    "collapsed": true
   },
   "outputs": [],
   "source": []
  },
  {
   "cell_type": "code",
   "execution_count": null,
   "metadata": {
    "collapsed": true
   },
   "outputs": [],
   "source": []
  },
  {
   "cell_type": "code",
   "execution_count": null,
   "metadata": {
    "collapsed": true
   },
   "outputs": [],
   "source": []
  },
  {
   "cell_type": "code",
   "execution_count": null,
   "metadata": {
    "collapsed": true
   },
   "outputs": [],
   "source": []
  },
  {
   "cell_type": "code",
   "execution_count": null,
   "metadata": {
    "collapsed": true
   },
   "outputs": [],
   "source": []
  },
  {
   "cell_type": "code",
   "execution_count": null,
   "metadata": {
    "collapsed": true
   },
   "outputs": [],
   "source": []
  },
  {
   "cell_type": "code",
   "execution_count": null,
   "metadata": {
    "collapsed": true
   },
   "outputs": [],
   "source": []
  },
  {
   "cell_type": "code",
   "execution_count": null,
   "metadata": {
    "collapsed": true
   },
   "outputs": [],
   "source": []
  },
  {
   "cell_type": "code",
   "execution_count": null,
   "metadata": {
    "collapsed": true
   },
   "outputs": [],
   "source": []
  },
  {
   "cell_type": "code",
   "execution_count": null,
   "metadata": {
    "collapsed": true
   },
   "outputs": [],
   "source": []
  },
  {
   "cell_type": "code",
   "execution_count": null,
   "metadata": {
    "collapsed": true
   },
   "outputs": [],
   "source": []
  },
  {
   "cell_type": "code",
   "execution_count": null,
   "metadata": {
    "collapsed": true
   },
   "outputs": [],
   "source": []
  },
  {
   "cell_type": "code",
   "execution_count": null,
   "metadata": {
    "collapsed": true
   },
   "outputs": [],
   "source": []
  }
 ],
 "metadata": {
  "kernelspec": {
   "display_name": "Python 3",
   "language": "python",
   "name": "python3"
  },
  "language_info": {
   "codemirror_mode": {
    "name": "ipython",
    "version": 3
   },
   "file_extension": ".py",
   "mimetype": "text/x-python",
   "name": "python",
   "nbconvert_exporter": "python",
   "pygments_lexer": "ipython3",
   "version": "3.6.1"
  }
 },
 "nbformat": 4,
 "nbformat_minor": 2
}
