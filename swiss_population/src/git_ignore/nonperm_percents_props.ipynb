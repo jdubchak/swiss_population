{
 "cells": [
  {
   "cell_type": "markdown",
   "metadata": {},
   "source": [
    "#### This script calculates the proportions and percentages of Canadians / all countries of Non Permanent Residents living in Switzerland in 2016. "
   ]
  },
  {
   "cell_type": "code",
   "execution_count": 1,
   "metadata": {
    "collapsed": true
   },
   "outputs": [],
   "source": [
    "import pandas as pd\n",
    "import numpy as np"
   ]
  },
  {
   "cell_type": "code",
   "execution_count": 4,
   "metadata": {
    "collapsed": true
   },
   "outputs": [],
   "source": [
    "canton_nonperm_birthpl_cit = pd.read_csv(\"../data/clean_data/2016_canton_nonperm_birthpl_cit_cleaned.csv\", index_col=0)"
   ]
  },
  {
   "cell_type": "code",
   "execution_count": 9,
   "metadata": {},
   "outputs": [],
   "source": [
    "canton_nonperm_birthpl_cit_Canada = canton_nonperm_birthpl_cit[[\"Year\", \"Commune\", \"District\", \"Canton\", \"Population type\",\n",
    "                           \"Place of birth\", \"Citizenship - Total\", \"Canada\", \"Switzerland\"]]"
   ]
  },
  {
   "cell_type": "code",
   "execution_count": 34,
   "metadata": {},
   "outputs": [],
   "source": [
    "canton_nonperm_Canadians_bornabroad = canton_nonperm_birthpl_cit_Canada.loc[(canton_nonperm_birthpl_cit_Canada[\"Place of birth\"] == \"Abroad\") & \n",
    "                                     (canton_nonperm_birthpl_cit_Canada.District.isnull())][[\"Year\", \"Canton\", \n",
    "                                                                                             \"Population type\", \"Place of birth\", \n",
    "                                                                                             \"Citizenship - Total\", \"Canada\"]]\n",
    "    "
   ]
  },
  {
   "cell_type": "code",
   "execution_count": 38,
   "metadata": {},
   "outputs": [],
   "source": [
    "canadian_props = []\n",
    "canadian_percent = []\n",
    "\n",
    "for ind, row in canton_nonperm_Canadians_bornabroad.iterrows():\n",
    "    canadian_props.append(row[\"Canada\"]/row[\"Citizenship - Total\"])\n",
    "    canadian_percent.append((row[\"Canada\"]/row[\"Citizenship - Total\"])*100)"
   ]
  },
  {
   "cell_type": "code",
   "execution_count": 41,
   "metadata": {},
   "outputs": [],
   "source": [
    "canton_nonperm_Canadians_bornabroad[\"Proportion of Nonperm Residents who are Canadian\"] = canadian_props\n",
    "canton_nonperm_Canadians_bornabroad[\"Percentage of Nonperm Residents who are Canadian\"] = canadian_percent"
   ]
  },
  {
   "cell_type": "code",
   "execution_count": 43,
   "metadata": {},
   "outputs": [],
   "source": [
    "canton_nonperm_Canadians_bornabroad.to_csv(\"../data/clean_data/2016_canton_nonperm_Canadians_bornabroad.csv\")"
   ]
  },
  {
   "cell_type": "code",
   "execution_count": 64,
   "metadata": {},
   "outputs": [],
   "source": [
    "reduced_g1k15 = pd.read_csv(\"../data/clean_data/reduced_g1k15_withcities.csv\", index_col=0)"
   ]
  },
  {
   "cell_type": "code",
   "execution_count": 65,
   "metadata": {},
   "outputs": [],
   "source": [
    "## remove extra unnamed index col\n",
    "reduced_g1k15 = reduced_g1k15.drop('Unnamed: 0.1', axis=1)"
   ]
  },
  {
   "cell_type": "code",
   "execution_count": 70,
   "metadata": {},
   "outputs": [
    {
     "data": {
      "text/html": [
       "<div>\n",
       "<style>\n",
       "    .dataframe thead tr:only-child th {\n",
       "        text-align: right;\n",
       "    }\n",
       "\n",
       "    .dataframe thead th {\n",
       "        text-align: left;\n",
       "    }\n",
       "\n",
       "    .dataframe tbody tr th {\n",
       "        vertical-align: top;\n",
       "    }\n",
       "</style>\n",
       "<table border=\"1\" class=\"dataframe\">\n",
       "  <thead>\n",
       "    <tr style=\"text-align: right;\">\n",
       "      <th></th>\n",
       "      <th>order</th>\n",
       "      <th>long</th>\n",
       "      <th>lat</th>\n",
       "      <th>group</th>\n",
       "      <th>id</th>\n",
       "      <th>KTNR</th>\n",
       "      <th>lat_coords</th>\n",
       "      <th>long_coords</th>\n",
       "      <th>cities</th>\n",
       "      <th>cantons</th>\n",
       "    </tr>\n",
       "  </thead>\n",
       "  <tbody>\n",
       "    <tr>\n",
       "      <th>0</th>\n",
       "      <td>1</td>\n",
       "      <td>692429</td>\n",
       "      <td>281173</td>\n",
       "      <td>0.1</td>\n",
       "      <td>0</td>\n",
       "      <td>1</td>\n",
       "      <td>47.680965</td>\n",
       "      <td>8.652293</td>\n",
       "      <td>NaN</td>\n",
       "      <td>Zurich</td>\n",
       "    </tr>\n",
       "    <tr>\n",
       "      <th>1</th>\n",
       "      <td>2</td>\n",
       "      <td>692993</td>\n",
       "      <td>280860</td>\n",
       "      <td>0.1</td>\n",
       "      <td>0</td>\n",
       "      <td>1</td>\n",
       "      <td>47.678150</td>\n",
       "      <td>8.659697</td>\n",
       "      <td>NaN</td>\n",
       "      <td>Zurich</td>\n",
       "    </tr>\n",
       "  </tbody>\n",
       "</table>\n",
       "</div>"
      ],
      "text/plain": [
       "   order    long     lat  group  id  KTNR  lat_coords  long_coords cities  \\\n",
       "0      1  692429  281173    0.1   0     1   47.680965     8.652293    NaN   \n",
       "1      2  692993  280860    0.1   0     1   47.678150     8.659697    NaN   \n",
       "\n",
       "  cantons  \n",
       "0  Zurich  \n",
       "1  Zurich  "
      ]
     },
     "execution_count": 70,
     "metadata": {},
     "output_type": "execute_result"
    }
   ],
   "source": [
    "reduced_g1k15.head(2)"
   ]
  },
  {
   "cell_type": "code",
   "execution_count": 69,
   "metadata": {},
   "outputs": [
    {
     "data": {
      "text/html": [
       "<div>\n",
       "<style>\n",
       "    .dataframe thead tr:only-child th {\n",
       "        text-align: right;\n",
       "    }\n",
       "\n",
       "    .dataframe thead th {\n",
       "        text-align: left;\n",
       "    }\n",
       "\n",
       "    .dataframe tbody tr th {\n",
       "        vertical-align: top;\n",
       "    }\n",
       "</style>\n",
       "<table border=\"1\" class=\"dataframe\">\n",
       "  <thead>\n",
       "    <tr style=\"text-align: right;\">\n",
       "      <th></th>\n",
       "      <th>Year</th>\n",
       "      <th>Canton</th>\n",
       "      <th>Population type</th>\n",
       "      <th>Place of birth</th>\n",
       "      <th>Citizenship - Total</th>\n",
       "      <th>Canada</th>\n",
       "      <th>Proportion of Nonperm Residents who are Canadian</th>\n",
       "      <th>Percentage of Nonperm Residents who are Canadian</th>\n",
       "    </tr>\n",
       "  </thead>\n",
       "  <tbody>\n",
       "    <tr>\n",
       "      <th>2</th>\n",
       "      <td>2016</td>\n",
       "      <td>NaN</td>\n",
       "      <td>Non permanent resident population</td>\n",
       "      <td>Abroad</td>\n",
       "      <td>75883</td>\n",
       "      <td>490</td>\n",
       "      <td>0.006457</td>\n",
       "      <td>0.645731</td>\n",
       "    </tr>\n",
       "    <tr>\n",
       "      <th>5</th>\n",
       "      <td>2016</td>\n",
       "      <td>Zurich</td>\n",
       "      <td>Non permanent resident population</td>\n",
       "      <td>Abroad</td>\n",
       "      <td>12687</td>\n",
       "      <td>104</td>\n",
       "      <td>0.008197</td>\n",
       "      <td>0.819737</td>\n",
       "    </tr>\n",
       "  </tbody>\n",
       "</table>\n",
       "</div>"
      ],
      "text/plain": [
       "   Year  Canton                    Population type Place of birth  \\\n",
       "2  2016     NaN  Non permanent resident population         Abroad   \n",
       "5  2016  Zurich  Non permanent resident population         Abroad   \n",
       "\n",
       "   Citizenship - Total  Canada  \\\n",
       "2                75883     490   \n",
       "5                12687     104   \n",
       "\n",
       "   Proportion of Nonperm Residents who are Canadian  \\\n",
       "2                                          0.006457   \n",
       "5                                          0.008197   \n",
       "\n",
       "   Percentage of Nonperm Residents who are Canadian  \n",
       "2                                          0.645731  \n",
       "5                                          0.819737  "
      ]
     },
     "execution_count": 69,
     "metadata": {},
     "output_type": "execute_result"
    }
   ],
   "source": [
    "canton_nonperm_Canadians_bornabroad.head(2)"
   ]
  },
  {
   "cell_type": "code",
   "execution_count": 71,
   "metadata": {
    "collapsed": true
   },
   "outputs": [],
   "source": [
    "reduced_canton_percent = []\n",
    "reduced_canton_prop = []\n",
    "\n",
    "for ind1, row1 in reduced_g1k15.iterrows():\n",
    "    for ind2, row2 in canton_nonperm_Canadians_bornabroad.iterrows():\n",
    "        if row1[\"cantons\"] == row2[\"Canton\"]:\n",
    "            reduced_canton_percent.append(row2[\"Percentage of Nonperm Residents who are Canadian\"])\n",
    "            reduced_canton_prop.append(row2[\"Proportion of Nonperm Residents who are Canadian\"])"
   ]
  },
  {
   "cell_type": "code",
   "execution_count": 73,
   "metadata": {},
   "outputs": [],
   "source": [
    "reduced_g1k15[\"Percentage of Nonperm Residents who are Canadian\"] = reduced_canton_percent\n",
    "reduced_g1k15[\"Proportion of Nonperm Residents who are Canadian\"] = reduced_canton_prop"
   ]
  },
  {
   "cell_type": "code",
   "execution_count": 75,
   "metadata": {},
   "outputs": [],
   "source": [
    "reduced_g1k15.to_csv(\"../data/clean_data/reduced_g1k15_canton_nonperm_canadians.csv\")"
   ]
  }
 ],
 "metadata": {
  "kernelspec": {
   "display_name": "Python 3",
   "language": "python",
   "name": "python3"
  },
  "language_info": {
   "codemirror_mode": {
    "name": "ipython",
    "version": 3
   },
   "file_extension": ".py",
   "mimetype": "text/x-python",
   "name": "python",
   "nbconvert_exporter": "python",
   "pygments_lexer": "ipython3",
   "version": "3.6.1"
  }
 },
 "nbformat": 4,
 "nbformat_minor": 2
}
