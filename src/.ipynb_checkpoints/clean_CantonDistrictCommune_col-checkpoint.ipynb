{
 "cells": [
  {
   "cell_type": "markdown",
   "metadata": {},
   "source": [
    "### This file is intended to automate spreading the Canton/District/Commune column into 3 different columns"
   ]
  },
  {
   "cell_type": "code",
   "execution_count": 85,
   "metadata": {
    "collapsed": true
   },
   "outputs": [],
   "source": [
    "## these files, located in the data/ directory, all contain the \"Canton (-) / District (>>) / Commune (......)\" column \n",
    "\n",
    "files_wCDCcol = [\"2016_canton_perm_cit\", \"2016_canton_allpop_cit\", \"2016_canton_nonperm_birthpl_cit\", \n",
    "                 \"2016_canton_perm_birthpl_cit\"]"
   ]
  },
  {
   "cell_type": "code",
   "execution_count": 86,
   "metadata": {
    "collapsed": true
   },
   "outputs": [],
   "source": [
    "def file_input(filename):\n",
    "    '''\n",
    "    Read in file to memory and output a data frame.\n",
    "\n",
    "    Input: a filename, not containing the path to the data directory. \n",
    "    Output: a dataframe \n",
    "    '''\n",
    "    \n",
    "    import pandas as pd\n",
    "    filename = \"../data/raw_data/\" + filename + \".csv\"\n",
    "    file = pd.read_csv(filename, encoding=\"latin-1\", sep=\" \", low_memory=False, skiprows=1)\n",
    "    return file "
   ]
  },
  {
   "cell_type": "code",
   "execution_count": 87,
   "metadata": {
    "collapsed": true
   },
   "outputs": [],
   "source": [
    "def clean_CDC(filename):\n",
    "    '''\n",
    "    Input: a filename, not containing the path to the data directory. \n",
    "    Output: a larger, cleaned, dataframe, containing 3 additional columns: Canton, District and Commune \n",
    "    \n",
    "    Calls file_input, which reads in the file and outputs a dataframe  \n",
    "    '''\n",
    "\n",
    "    df = file_input(filename)\n",
    "    \n",
    "    Canton = [] \n",
    "    District = []\n",
    "    Commune = []\n",
    "\n",
    "    for ind, row in df[[\"Canton (-) / District (>>) / Commune (......)\"]].iterrows():\n",
    "        if row[0] == \"Switzerland\":\n",
    "            Canton.append(\"\")\n",
    "            District.append(\"\")\n",
    "            Commune.append(\"\")\n",
    "        elif row[0][0] == \"-\":\n",
    "            Canton.append(row[0][2:])\n",
    "            District.append(\"\")\n",
    "            Commune.append(\"\")\n",
    "            canton_row_before = row[0][2:]\n",
    "        else:\n",
    "            Canton == Canton.append(canton_row_before)\n",
    "            if row[0][0] == \">\":\n",
    "                District.append(row[0][3:])\n",
    "                Commune.append(\"\")\n",
    "                district_row_before = row[0][3:]\n",
    "            else:\n",
    "                District == District.append(district_row_before)\n",
    "                if row[0][0] == \".\":\n",
    "                    Commune.append(row[0][11:])\n",
    "                    comm_row_before = row[0][11:]\n",
    "                else:\n",
    "                    Commune == Commune.append(comm_row_before)\n",
    "    ## add lists to dataframe \n",
    "    df[\"Commune\"] = Commune\n",
    "    df[\"District\"] = District\n",
    "    df[\"Canton\"] = Canton\n",
    "    \n",
    "    return df "
   ]
  },
  {
   "cell_type": "code",
   "execution_count": 88,
   "metadata": {
    "collapsed": true
   },
   "outputs": [],
   "source": [
    "def reorder_cols(filename):\n",
    "    '''\n",
    "    Input: a filename, not containing the path to the data directory. \n",
    "    Output: a dataframe with the columns rearranged to have Commune, District, and Canton in positions 2-5. \n",
    "    \n",
    "    Calls clean_CDC, which outputs a cleaner dataframe where Commune, District and Canton are each unique columns. \n",
    "    \n",
    "    Code from Fabio Lamanna, https://stackoverflow.com/questions/33216180/move-columns-within-pandas-data-frame\n",
    "    '''\n",
    "    df = clean_CDC(filename)\n",
    "    \n",
    "    colnames = df.columns.tolist()\n",
    "    ## reorganize columns: Year remains the first column, the second to 5th columns are Commune, District and Canton\n",
    "    ## and the remaining columns keep the same order \n",
    "    colnames = colnames[0:1] + colnames[-3:] + colnames[1:-3]\n",
    "    \n",
    "    df = df[colnames]\n",
    "    return df "
   ]
  },
  {
   "cell_type": "code",
   "execution_count": 101,
   "metadata": {
    "collapsed": true
   },
   "outputs": [],
   "source": [
    "def rm_acc_chars(filename):\n",
    "    '''\n",
    "    \"Remove Accent Characters\" \n",
    "    \n",
    "    Input: a filename, not containing the path to the data directory. \n",
    "    Output: a dataframe with the columns rearranged to have cleaned Commune, District, and Canton in positions 2-5,\n",
    "            with the District accent characters recoded to english characters.  \n",
    "            \n",
    "    Calls reorder_cols(filename), which calls clean_CDC(filename), which calls input_file(filename)\n",
    "    '''\n",
    "    df = reorder_cols(filename)\n",
    "    \n",
    "    df.Canton = df.Canton.replace({\"Zürich\": 'Zurich', \"Graubünden / Grigioni / Grischun\": \"Graubunden / Grigioni / Grischun\", \n",
    "                                           \"Neuchâtel\":\"Neuchatel\",\"Genève\":\"Geneve\"})\n",
    "    return df"
   ]
  },
  {
   "cell_type": "code",
   "execution_count": 107,
   "metadata": {
    "collapsed": true
   },
   "outputs": [],
   "source": [
    "def write_file(filename):\n",
    "    '''\n",
    "    Input: a filename, not containing the path to the data directory. \n",
    "    Output: a cleaned file, written to the data/clean_data/ directory as a .csv  \n",
    "    \n",
    "    Difference between the input file and the output file of this function: the columns have been rearranged to \n",
    "            have clean the \"Canton (-) / District (>>) / Commune (......)\" column to 3 columns:\n",
    "            Commune, District, and Canton. These three columns were moved to positions 2-5 in the dataframe,\n",
    "            and the District accent characters recoded to english characters\n",
    "    \n",
    "    Calls rm_acc_chars(filename), reorder_cols(filename), which calls clean_CDC(filename), which calls input_file(filename)\n",
    "    '''\n",
    "    df = rm_acc_chars(filename)\n",
    "    path = \"../data/clean_data/\" + filename + \"_cleaned.csv\"\n",
    "    df.to_csv(path)"
   ]
  },
  {
   "cell_type": "code",
   "execution_count": 111,
   "metadata": {
    "collapsed": true
   },
   "outputs": [],
   "source": [
    "for file in files_wCDCcol:\n",
    "    write_file(file)"
   ]
  }
 ],
 "metadata": {
  "kernelspec": {
   "display_name": "Python 3",
   "language": "python",
   "name": "python3"
  },
  "language_info": {
   "codemirror_mode": {
    "name": "ipython",
    "version": 3
   },
   "file_extension": ".py",
   "mimetype": "text/x-python",
   "name": "python",
   "nbconvert_exporter": "python",
   "pygments_lexer": "ipython3",
   "version": "3.6.1"
  }
 },
 "nbformat": 4,
 "nbformat_minor": 2
}
