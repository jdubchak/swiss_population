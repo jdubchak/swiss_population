{
 "cells": [
  {
   "cell_type": "code",
   "execution_count": 1,
   "metadata": {
    "collapsed": true
   },
   "outputs": [],
   "source": [
    "import pandas as pd\n",
    "import numpy as np"
   ]
  },
  {
   "cell_type": "code",
   "execution_count": 30,
   "metadata": {
    "collapsed": true
   },
   "outputs": [],
   "source": [
    "canton_perm_birthpl_cit = pd.read_csv(\"../data/clean_data/2016_canton_perm_birthpl_cit_cleaned.csv\", index_col=0)"
   ]
  },
  {
   "cell_type": "code",
   "execution_count": 31,
   "metadata": {},
   "outputs": [],
   "source": [
    "canton_perm_birthpl_cit_Canada = canton_perm_birthpl_cit[[\"Year\", \"Commune\", \"District\", \"Canton\", \"Population type\", \"Place of birth\",\n",
    "                        \"Citizenship - Total\", \"Canada\", \"Switzerland\"]]"
   ]
  },
  {
   "cell_type": "code",
   "execution_count": 32,
   "metadata": {},
   "outputs": [
    {
     "data": {
      "text/html": [
       "<div>\n",
       "<style>\n",
       "    .dataframe thead tr:only-child th {\n",
       "        text-align: right;\n",
       "    }\n",
       "\n",
       "    .dataframe thead th {\n",
       "        text-align: left;\n",
       "    }\n",
       "\n",
       "    .dataframe tbody tr th {\n",
       "        vertical-align: top;\n",
       "    }\n",
       "</style>\n",
       "<table border=\"1\" class=\"dataframe\">\n",
       "  <thead>\n",
       "    <tr style=\"text-align: right;\">\n",
       "      <th></th>\n",
       "      <th>Year</th>\n",
       "      <th>Commune</th>\n",
       "      <th>District</th>\n",
       "      <th>Canton</th>\n",
       "      <th>Population type</th>\n",
       "      <th>Place of birth</th>\n",
       "      <th>Citizenship - Total</th>\n",
       "      <th>Canada</th>\n",
       "      <th>Switzerland</th>\n",
       "    </tr>\n",
       "  </thead>\n",
       "  <tbody>\n",
       "    <tr>\n",
       "      <th>0</th>\n",
       "      <td>2016</td>\n",
       "      <td>NaN</td>\n",
       "      <td>NaN</td>\n",
       "      <td>NaN</td>\n",
       "      <td>Permanent resident population</td>\n",
       "      <td>Place of birth - Total</td>\n",
       "      <td>8419550</td>\n",
       "      <td>6769</td>\n",
       "      <td>6318404</td>\n",
       "    </tr>\n",
       "    <tr>\n",
       "      <th>1</th>\n",
       "      <td>2016</td>\n",
       "      <td>NaN</td>\n",
       "      <td>NaN</td>\n",
       "      <td>NaN</td>\n",
       "      <td>Permanent resident population</td>\n",
       "      <td>Switzerland</td>\n",
       "      <td>5939518</td>\n",
       "      <td>614</td>\n",
       "      <td>5535896</td>\n",
       "    </tr>\n",
       "    <tr>\n",
       "      <th>2</th>\n",
       "      <td>2016</td>\n",
       "      <td>NaN</td>\n",
       "      <td>NaN</td>\n",
       "      <td>NaN</td>\n",
       "      <td>Permanent resident population</td>\n",
       "      <td>Abroad</td>\n",
       "      <td>2480032</td>\n",
       "      <td>6155</td>\n",
       "      <td>782508</td>\n",
       "    </tr>\n",
       "    <tr>\n",
       "      <th>3</th>\n",
       "      <td>2016</td>\n",
       "      <td>NaN</td>\n",
       "      <td>NaN</td>\n",
       "      <td>Zurich</td>\n",
       "      <td>Permanent resident population</td>\n",
       "      <td>Place of birth - Total</td>\n",
       "      <td>1487969</td>\n",
       "      <td>1032</td>\n",
       "      <td>1092631</td>\n",
       "    </tr>\n",
       "    <tr>\n",
       "      <th>4</th>\n",
       "      <td>2016</td>\n",
       "      <td>NaN</td>\n",
       "      <td>NaN</td>\n",
       "      <td>Zurich</td>\n",
       "      <td>Permanent resident population</td>\n",
       "      <td>Switzerland</td>\n",
       "      <td>989230</td>\n",
       "      <td>79</td>\n",
       "      <td>920008</td>\n",
       "    </tr>\n",
       "  </tbody>\n",
       "</table>\n",
       "</div>"
      ],
      "text/plain": [
       "   Year Commune District  Canton                Population type  \\\n",
       "0  2016     NaN      NaN     NaN  Permanent resident population   \n",
       "1  2016     NaN      NaN     NaN  Permanent resident population   \n",
       "2  2016     NaN      NaN     NaN  Permanent resident population   \n",
       "3  2016     NaN      NaN  Zurich  Permanent resident population   \n",
       "4  2016     NaN      NaN  Zurich  Permanent resident population   \n",
       "\n",
       "           Place of birth  Citizenship - Total  Canada  Switzerland  \n",
       "0  Place of birth - Total              8419550    6769      6318404  \n",
       "1             Switzerland              5939518     614      5535896  \n",
       "2                  Abroad              2480032    6155       782508  \n",
       "3  Place of birth - Total              1487969    1032      1092631  \n",
       "4             Switzerland               989230      79       920008  "
      ]
     },
     "execution_count": 32,
     "metadata": {},
     "output_type": "execute_result"
    }
   ],
   "source": [
    "canton_perm_birthpl_cit_Canada.head()"
   ]
  },
  {
   "cell_type": "code",
   "execution_count": 33,
   "metadata": {},
   "outputs": [],
   "source": [
    "canton_perm_Canadians_bornabroad = canton_perm_birthpl_cit_Canada.loc[(canton_perm_birthpl_cit_Canada[\"Place of birth\"] == \"Abroad\") & \n",
    "                                     (canton_perm_birthpl_cit_Canada.District.isnull())][[\"Year\", \"Canton\", \n",
    "                                                                                             \"Population type\", \"Place of birth\", \n",
    "                                                                                             \"Citizenship - Total\", \"Canada\"]]\n",
    "    "
   ]
  },
  {
   "cell_type": "code",
   "execution_count": 34,
   "metadata": {},
   "outputs": [],
   "source": [
    "canadian_props = []\n",
    "canadian_percent = []\n",
    "\n",
    "for ind, row in canton_perm_Canadians_bornabroad.iterrows():\n",
    "    canadian_props.append(row[\"Canada\"]/row[\"Citizenship - Total\"])\n",
    "    canadian_percent.append((row[\"Canada\"]/row[\"Citizenship - Total\"])*100)"
   ]
  },
  {
   "cell_type": "code",
   "execution_count": 35,
   "metadata": {
    "collapsed": true
   },
   "outputs": [],
   "source": [
    "canton_perm_Canadians_bornabroad[\"Proportion of Perm Residents who are Canadian\"] = canadian_props\n",
    "canton_perm_Canadians_bornabroad[\"Percentage of Perm Residents who are Canadian\"] = canadian_percent"
   ]
  },
  {
   "cell_type": "code",
   "execution_count": 36,
   "metadata": {
    "collapsed": true
   },
   "outputs": [],
   "source": [
    "reduced_g1k15 = pd.read_csv(\"../data/clean_data/reduced_g1k15_withcities.csv\", index_col=0)"
   ]
  },
  {
   "cell_type": "code",
   "execution_count": 37,
   "metadata": {},
   "outputs": [],
   "source": [
    "reduced_g1k15 = reduced_g1k15.drop('Unnamed: 0.1', axis=1)"
   ]
  },
  {
   "cell_type": "code",
   "execution_count": 38,
   "metadata": {},
   "outputs": [],
   "source": [
    "reduced_canton_percent = []\n",
    "reduced_canton_prop = []\n",
    "\n",
    "for ind1, row1 in reduced_g1k15.iterrows():\n",
    "    for ind2, row2 in canton_perm_Canadians_bornabroad.iterrows():\n",
    "        if row1[\"cantons\"] == row2[\"Canton\"]:\n",
    "            reduced_canton_percent.append(row2[\"Percentage of Perm Residents who are Canadian\"])\n",
    "            reduced_canton_prop.append(row2[\"Proportion of Perm Residents who are Canadian\"])"
   ]
  },
  {
   "cell_type": "code",
   "execution_count": 39,
   "metadata": {
    "collapsed": true
   },
   "outputs": [],
   "source": [
    "reduced_g1k15[\"Percentage of Nonperm Residents who are Canadian\"] = reduced_canton_percent\n",
    "reduced_g1k15[\"Proportion of Nonperm Residents who are Canadian\"] = reduced_canton_prop"
   ]
  },
  {
   "cell_type": "code",
   "execution_count": 41,
   "metadata": {
    "collapsed": true
   },
   "outputs": [],
   "source": [
    "reduced_g1k15.to_csv(\"../data/clean_data/reduced_g1k15_canton_perm_canadians.csv\")"
   ]
  }
 ],
 "metadata": {
  "kernelspec": {
   "display_name": "Python 3",
   "language": "python",
   "name": "python3"
  },
  "language_info": {
   "codemirror_mode": {
    "name": "ipython",
    "version": 3
   },
   "file_extension": ".py",
   "mimetype": "text/x-python",
   "name": "python",
   "nbconvert_exporter": "python",
   "pygments_lexer": "ipython3",
   "version": "3.6.1"
  }
 },
 "nbformat": 4,
 "nbformat_minor": 2
}
