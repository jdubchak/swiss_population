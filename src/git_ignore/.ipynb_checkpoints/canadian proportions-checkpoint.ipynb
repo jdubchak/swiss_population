{
 "cells": [
  {
   "cell_type": "code",
   "execution_count": 1,
   "metadata": {
    "collapsed": true
   },
   "outputs": [],
   "source": [
    "import pandas as pd\n",
    "import numpy as np"
   ]
  },
  {
   "cell_type": "code",
   "execution_count": 3,
   "metadata": {},
   "outputs": [],
   "source": [
    "canton_perm_birthpl_cit = pd.read_csv(\"../../data/clean_data/2016_canton_perm_birthpl_cit_cleaned.csv\", index_col=0)"
   ]
  },
  {
   "cell_type": "code",
   "execution_count": 8,
   "metadata": {
    "collapsed": true
   },
   "outputs": [],
   "source": [
    "canton_perm_birthpl_cit_Canada = canton_perm_birthpl_cit[[\"Year\", \"Commune\", \"District\", \"Canton\", \"Population type\", \"Place of birth\",\n",
    "                        \"Citizenship - Total\", \"Canada\", \"Switzerland\"]]"
   ]
  },
  {
   "cell_type": "code",
   "execution_count": 9,
   "metadata": {},
   "outputs": [
    {
     "data": {
      "text/html": [
       "<div>\n",
       "<style>\n",
       "    .dataframe thead tr:only-child th {\n",
       "        text-align: right;\n",
       "    }\n",
       "\n",
       "    .dataframe thead th {\n",
       "        text-align: left;\n",
       "    }\n",
       "\n",
       "    .dataframe tbody tr th {\n",
       "        vertical-align: top;\n",
       "    }\n",
       "</style>\n",
       "<table border=\"1\" class=\"dataframe\">\n",
       "  <thead>\n",
       "    <tr style=\"text-align: right;\">\n",
       "      <th></th>\n",
       "      <th>Year</th>\n",
       "      <th>Commune</th>\n",
       "      <th>District</th>\n",
       "      <th>Canton</th>\n",
       "      <th>Population type</th>\n",
       "      <th>Place of birth</th>\n",
       "      <th>Citizenship - Total</th>\n",
       "      <th>Canada</th>\n",
       "      <th>Switzerland</th>\n",
       "    </tr>\n",
       "  </thead>\n",
       "  <tbody>\n",
       "    <tr>\n",
       "      <th>0</th>\n",
       "      <td>2016</td>\n",
       "      <td>NaN</td>\n",
       "      <td>NaN</td>\n",
       "      <td>NaN</td>\n",
       "      <td>Permanent resident population</td>\n",
       "      <td>Place of birth - Total</td>\n",
       "      <td>8419550</td>\n",
       "      <td>6769</td>\n",
       "      <td>6318404</td>\n",
       "    </tr>\n",
       "    <tr>\n",
       "      <th>1</th>\n",
       "      <td>2016</td>\n",
       "      <td>NaN</td>\n",
       "      <td>NaN</td>\n",
       "      <td>NaN</td>\n",
       "      <td>Permanent resident population</td>\n",
       "      <td>Switzerland</td>\n",
       "      <td>5939518</td>\n",
       "      <td>614</td>\n",
       "      <td>5535896</td>\n",
       "    </tr>\n",
       "    <tr>\n",
       "      <th>2</th>\n",
       "      <td>2016</td>\n",
       "      <td>NaN</td>\n",
       "      <td>NaN</td>\n",
       "      <td>NaN</td>\n",
       "      <td>Permanent resident population</td>\n",
       "      <td>Abroad</td>\n",
       "      <td>2480032</td>\n",
       "      <td>6155</td>\n",
       "      <td>782508</td>\n",
       "    </tr>\n",
       "    <tr>\n",
       "      <th>3</th>\n",
       "      <td>2016</td>\n",
       "      <td>NaN</td>\n",
       "      <td>NaN</td>\n",
       "      <td>Zurich</td>\n",
       "      <td>Permanent resident population</td>\n",
       "      <td>Place of birth - Total</td>\n",
       "      <td>1487969</td>\n",
       "      <td>1032</td>\n",
       "      <td>1092631</td>\n",
       "    </tr>\n",
       "    <tr>\n",
       "      <th>4</th>\n",
       "      <td>2016</td>\n",
       "      <td>NaN</td>\n",
       "      <td>NaN</td>\n",
       "      <td>Zurich</td>\n",
       "      <td>Permanent resident population</td>\n",
       "      <td>Switzerland</td>\n",
       "      <td>989230</td>\n",
       "      <td>79</td>\n",
       "      <td>920008</td>\n",
       "    </tr>\n",
       "  </tbody>\n",
       "</table>\n",
       "</div>"
      ],
      "text/plain": [
       "   Year Commune District  Canton                Population type  \\\n",
       "0  2016     NaN      NaN     NaN  Permanent resident population   \n",
       "1  2016     NaN      NaN     NaN  Permanent resident population   \n",
       "2  2016     NaN      NaN     NaN  Permanent resident population   \n",
       "3  2016     NaN      NaN  Zurich  Permanent resident population   \n",
       "4  2016     NaN      NaN  Zurich  Permanent resident population   \n",
       "\n",
       "           Place of birth  Citizenship - Total  Canada  Switzerland  \n",
       "0  Place of birth - Total              8419550    6769      6318404  \n",
       "1             Switzerland              5939518     614      5535896  \n",
       "2                  Abroad              2480032    6155       782508  \n",
       "3  Place of birth - Total              1487969    1032      1092631  \n",
       "4             Switzerland               989230      79       920008  "
      ]
     },
     "execution_count": 9,
     "metadata": {},
     "output_type": "execute_result"
    }
   ],
   "source": [
    "canton_perm_birthpl_cit_Canada.head()"
   ]
  },
  {
   "cell_type": "code",
   "execution_count": 10,
   "metadata": {
    "collapsed": true
   },
   "outputs": [],
   "source": [
    "canton_perm_Canadians_bornabroad = canton_perm_birthpl_cit_Canada.loc[(canton_perm_birthpl_cit_Canada[\"Place of birth\"] == \"Abroad\") & \n",
    "                                     (canton_perm_birthpl_cit_Canada.District.isnull())][[\"Year\", \"Canton\", \n",
    "                                                                                             \"Population type\", \"Place of birth\", \n",
    "                                                                                             \"Citizenship - Total\", \"Canada\"]]"
   ]
  },
  {
   "cell_type": "code",
   "execution_count": 16,
   "metadata": {},
   "outputs": [],
   "source": [
    "all_canadians_count = canton_perm_Canadians_bornabroad.iloc[0][\"Canada\"]"
   ]
  },
  {
   "cell_type": "code",
   "execution_count": 19,
   "metadata": {
    "collapsed": true
   },
   "outputs": [],
   "source": [
    "canadian_props = []\n",
    "canadian_percent = []\n",
    "\n",
    "for ind, row in canton_perm_Canadians_bornabroad.iterrows():\n",
    "    canadian_props.append(row[\"Canada\"]/all_canadians_count)\n",
    "    canadian_percent.append((row[\"Canada\"]/all_canadians_count)*100)"
   ]
  },
  {
   "cell_type": "code",
   "execution_count": 27,
   "metadata": {
    "collapsed": true
   },
   "outputs": [],
   "source": [
    "canton_perm_Canadians_bornabroad[\"Proportion of Perm Residents who are Canadian in Canton\"] = canadian_props\n",
    "canton_perm_Canadians_bornabroad[\"Percentage of Perm Residents who are Canadian in Canton\"] = canadian_percent"
   ]
  },
  {
   "cell_type": "code",
   "execution_count": 23,
   "metadata": {},
   "outputs": [],
   "source": [
    "reduced_g1k15 = pd.read_csv(\"../../data/clean_data/reduced_g1k15_withcities.csv\", index_col=0)"
   ]
  },
  {
   "cell_type": "code",
   "execution_count": 24,
   "metadata": {
    "collapsed": true
   },
   "outputs": [],
   "source": [
    "reduced_g1k15 = reduced_g1k15.drop('Unnamed: 0.1', axis=1)"
   ]
  },
  {
   "cell_type": "code",
   "execution_count": 26,
   "metadata": {},
   "outputs": [
    {
     "data": {
      "text/html": [
       "<div>\n",
       "<style>\n",
       "    .dataframe thead tr:only-child th {\n",
       "        text-align: right;\n",
       "    }\n",
       "\n",
       "    .dataframe thead th {\n",
       "        text-align: left;\n",
       "    }\n",
       "\n",
       "    .dataframe tbody tr th {\n",
       "        vertical-align: top;\n",
       "    }\n",
       "</style>\n",
       "<table border=\"1\" class=\"dataframe\">\n",
       "  <thead>\n",
       "    <tr style=\"text-align: right;\">\n",
       "      <th></th>\n",
       "      <th>order</th>\n",
       "      <th>long</th>\n",
       "      <th>lat</th>\n",
       "      <th>group</th>\n",
       "      <th>id</th>\n",
       "      <th>KTNR</th>\n",
       "      <th>lat_coords</th>\n",
       "      <th>long_coords</th>\n",
       "      <th>cities</th>\n",
       "      <th>cantons</th>\n",
       "    </tr>\n",
       "  </thead>\n",
       "  <tbody>\n",
       "    <tr>\n",
       "      <th>0</th>\n",
       "      <td>1</td>\n",
       "      <td>692429</td>\n",
       "      <td>281173</td>\n",
       "      <td>0.1</td>\n",
       "      <td>0</td>\n",
       "      <td>1</td>\n",
       "      <td>47.680965</td>\n",
       "      <td>8.652293</td>\n",
       "      <td>NaN</td>\n",
       "      <td>Zurich</td>\n",
       "    </tr>\n",
       "    <tr>\n",
       "      <th>1</th>\n",
       "      <td>2</td>\n",
       "      <td>692993</td>\n",
       "      <td>280860</td>\n",
       "      <td>0.1</td>\n",
       "      <td>0</td>\n",
       "      <td>1</td>\n",
       "      <td>47.678150</td>\n",
       "      <td>8.659697</td>\n",
       "      <td>NaN</td>\n",
       "      <td>Zurich</td>\n",
       "    </tr>\n",
       "    <tr>\n",
       "      <th>2</th>\n",
       "      <td>3</td>\n",
       "      <td>693163</td>\n",
       "      <td>280421</td>\n",
       "      <td>0.1</td>\n",
       "      <td>0</td>\n",
       "      <td>1</td>\n",
       "      <td>47.674202</td>\n",
       "      <td>8.661929</td>\n",
       "      <td>NaN</td>\n",
       "      <td>Zurich</td>\n",
       "    </tr>\n",
       "    <tr>\n",
       "      <th>3</th>\n",
       "      <td>4</td>\n",
       "      <td>693048</td>\n",
       "      <td>280201</td>\n",
       "      <td>0.1</td>\n",
       "      <td>0</td>\n",
       "      <td>1</td>\n",
       "      <td>47.672223</td>\n",
       "      <td>8.660419</td>\n",
       "      <td>NaN</td>\n",
       "      <td>Zurich</td>\n",
       "    </tr>\n",
       "    <tr>\n",
       "      <th>4</th>\n",
       "      <td>5</td>\n",
       "      <td>693243</td>\n",
       "      <td>279410</td>\n",
       "      <td>0.1</td>\n",
       "      <td>0</td>\n",
       "      <td>1</td>\n",
       "      <td>47.665110</td>\n",
       "      <td>8.662979</td>\n",
       "      <td>NaN</td>\n",
       "      <td>Zurich</td>\n",
       "    </tr>\n",
       "  </tbody>\n",
       "</table>\n",
       "</div>"
      ],
      "text/plain": [
       "   order    long     lat  group  id  KTNR  lat_coords  long_coords cities  \\\n",
       "0      1  692429  281173    0.1   0     1   47.680965     8.652293    NaN   \n",
       "1      2  692993  280860    0.1   0     1   47.678150     8.659697    NaN   \n",
       "2      3  693163  280421    0.1   0     1   47.674202     8.661929    NaN   \n",
       "3      4  693048  280201    0.1   0     1   47.672223     8.660419    NaN   \n",
       "4      5  693243  279410    0.1   0     1   47.665110     8.662979    NaN   \n",
       "\n",
       "  cantons  \n",
       "0  Zurich  \n",
       "1  Zurich  \n",
       "2  Zurich  \n",
       "3  Zurich  \n",
       "4  Zurich  "
      ]
     },
     "execution_count": 26,
     "metadata": {},
     "output_type": "execute_result"
    }
   ],
   "source": [
    "reduced_g1k15.head()"
   ]
  },
  {
   "cell_type": "code",
   "execution_count": 28,
   "metadata": {},
   "outputs": [],
   "source": [
    "reduced_canton_percent = []\n",
    "reduced_canton_prop = []\n",
    "\n",
    "for ind1, row1 in reduced_g1k15.iterrows():\n",
    "    for ind2, row2 in canton_perm_Canadians_bornabroad.iterrows():\n",
    "        if row1[\"cantons\"] == row2[\"Canton\"]:\n",
    "            reduced_canton_percent.append(row2[\"Percentage of Perm Residents who are Canadian in Canton\"])\n",
    "            reduced_canton_prop.append(row2[\"Proportion of Perm Residents who are Canadian in Canton\"])"
   ]
  },
  {
   "cell_type": "code",
   "execution_count": 29,
   "metadata": {
    "collapsed": true
   },
   "outputs": [],
   "source": [
    "reduced_g1k15[\"Percentage of Perm Residents who are Canadian in Canton\"] = reduced_canton_percent\n",
    "reduced_g1k15[\"Proportion of Perm Residents who are Canadian in Canton\"] = reduced_canton_prop"
   ]
  },
  {
   "cell_type": "code",
   "execution_count": 30,
   "metadata": {},
   "outputs": [
    {
     "data": {
      "text/html": [
       "<div>\n",
       "<style>\n",
       "    .dataframe thead tr:only-child th {\n",
       "        text-align: right;\n",
       "    }\n",
       "\n",
       "    .dataframe thead th {\n",
       "        text-align: left;\n",
       "    }\n",
       "\n",
       "    .dataframe tbody tr th {\n",
       "        vertical-align: top;\n",
       "    }\n",
       "</style>\n",
       "<table border=\"1\" class=\"dataframe\">\n",
       "  <thead>\n",
       "    <tr style=\"text-align: right;\">\n",
       "      <th></th>\n",
       "      <th>order</th>\n",
       "      <th>long</th>\n",
       "      <th>lat</th>\n",
       "      <th>group</th>\n",
       "      <th>id</th>\n",
       "      <th>KTNR</th>\n",
       "      <th>lat_coords</th>\n",
       "      <th>long_coords</th>\n",
       "      <th>cities</th>\n",
       "      <th>cantons</th>\n",
       "      <th>Percentage of Perm Residents who are Canadian in Canton</th>\n",
       "      <th>Proportion of Perm Residents who are Canadian in Canton</th>\n",
       "    </tr>\n",
       "  </thead>\n",
       "  <tbody>\n",
       "    <tr>\n",
       "      <th>0</th>\n",
       "      <td>1</td>\n",
       "      <td>692429</td>\n",
       "      <td>281173</td>\n",
       "      <td>0.1</td>\n",
       "      <td>0</td>\n",
       "      <td>1</td>\n",
       "      <td>47.680965</td>\n",
       "      <td>8.652293</td>\n",
       "      <td>NaN</td>\n",
       "      <td>Zurich</td>\n",
       "      <td>15.483347</td>\n",
       "      <td>0.154833</td>\n",
       "    </tr>\n",
       "    <tr>\n",
       "      <th>1</th>\n",
       "      <td>2</td>\n",
       "      <td>692993</td>\n",
       "      <td>280860</td>\n",
       "      <td>0.1</td>\n",
       "      <td>0</td>\n",
       "      <td>1</td>\n",
       "      <td>47.678150</td>\n",
       "      <td>8.659697</td>\n",
       "      <td>NaN</td>\n",
       "      <td>Zurich</td>\n",
       "      <td>15.483347</td>\n",
       "      <td>0.154833</td>\n",
       "    </tr>\n",
       "    <tr>\n",
       "      <th>2</th>\n",
       "      <td>3</td>\n",
       "      <td>693163</td>\n",
       "      <td>280421</td>\n",
       "      <td>0.1</td>\n",
       "      <td>0</td>\n",
       "      <td>1</td>\n",
       "      <td>47.674202</td>\n",
       "      <td>8.661929</td>\n",
       "      <td>NaN</td>\n",
       "      <td>Zurich</td>\n",
       "      <td>15.483347</td>\n",
       "      <td>0.154833</td>\n",
       "    </tr>\n",
       "    <tr>\n",
       "      <th>3</th>\n",
       "      <td>4</td>\n",
       "      <td>693048</td>\n",
       "      <td>280201</td>\n",
       "      <td>0.1</td>\n",
       "      <td>0</td>\n",
       "      <td>1</td>\n",
       "      <td>47.672223</td>\n",
       "      <td>8.660419</td>\n",
       "      <td>NaN</td>\n",
       "      <td>Zurich</td>\n",
       "      <td>15.483347</td>\n",
       "      <td>0.154833</td>\n",
       "    </tr>\n",
       "    <tr>\n",
       "      <th>4</th>\n",
       "      <td>5</td>\n",
       "      <td>693243</td>\n",
       "      <td>279410</td>\n",
       "      <td>0.1</td>\n",
       "      <td>0</td>\n",
       "      <td>1</td>\n",
       "      <td>47.665110</td>\n",
       "      <td>8.662979</td>\n",
       "      <td>NaN</td>\n",
       "      <td>Zurich</td>\n",
       "      <td>15.483347</td>\n",
       "      <td>0.154833</td>\n",
       "    </tr>\n",
       "  </tbody>\n",
       "</table>\n",
       "</div>"
      ],
      "text/plain": [
       "   order    long     lat  group  id  KTNR  lat_coords  long_coords cities  \\\n",
       "0      1  692429  281173    0.1   0     1   47.680965     8.652293    NaN   \n",
       "1      2  692993  280860    0.1   0     1   47.678150     8.659697    NaN   \n",
       "2      3  693163  280421    0.1   0     1   47.674202     8.661929    NaN   \n",
       "3      4  693048  280201    0.1   0     1   47.672223     8.660419    NaN   \n",
       "4      5  693243  279410    0.1   0     1   47.665110     8.662979    NaN   \n",
       "\n",
       "  cantons  Percentage of Perm Residents who are Canadian in Canton  \\\n",
       "0  Zurich                                          15.483347         \n",
       "1  Zurich                                          15.483347         \n",
       "2  Zurich                                          15.483347         \n",
       "3  Zurich                                          15.483347         \n",
       "4  Zurich                                          15.483347         \n",
       "\n",
       "   Proportion of Perm Residents who are Canadian in Canton  \n",
       "0                                           0.154833        \n",
       "1                                           0.154833        \n",
       "2                                           0.154833        \n",
       "3                                           0.154833        \n",
       "4                                           0.154833        "
      ]
     },
     "execution_count": 30,
     "metadata": {},
     "output_type": "execute_result"
    }
   ],
   "source": [
    "reduced_g1k15.to_csv(\"../data/clean_data/reduced_g1k15_canton_perm_canadians.csv\")"
   ]
  }
 ],
 "metadata": {
  "kernelspec": {
   "display_name": "Python 3",
   "language": "python",
   "name": "python3"
  },
  "language_info": {
   "codemirror_mode": {
    "name": "ipython",
    "version": 3
   },
   "file_extension": ".py",
   "mimetype": "text/x-python",
   "name": "python",
   "nbconvert_exporter": "python",
   "pygments_lexer": "ipython3",
   "version": "3.6.1"
  }
 },
 "nbformat": 4,
 "nbformat_minor": 2
}
